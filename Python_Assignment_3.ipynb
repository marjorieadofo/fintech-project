{
  "nbformat": 4,
  "nbformat_minor": 0,
  "metadata": {
    "colab": {
      "provenance": []
    },
    "kernelspec": {
      "name": "python3",
      "display_name": "Python 3"
    },
    "language_info": {
      "name": "python"
    }
  },
  "cells": [
    {
      "cell_type": "code",
      "execution_count": 1,
      "metadata": {
        "colab": {
          "base_uri": "https://localhost:8080/"
        },
        "id": "jqfPh-GE_tgl",
        "outputId": "7422b970-81ba-4654-a649-5dd929d26171"
      },
      "outputs": [
        {
          "output_type": "stream",
          "name": "stdout",
          "text": [
            "[10 15 20 25 30 35 40 45 50]\n"
          ]
        }
      ],
      "source": [
        "#1. Create a NumPy array with values from 10 to 50, stepping by 5\n",
        "\n",
        "import numpy as np\n",
        "\n",
        "arr = np.arange(10, 51, 5)\n",
        "print(arr)"
      ]
    },
    {
      "cell_type": "code",
      "source": [
        "#2. Turn the array above into a 5×10 matrix\n",
        "\n",
        "arr = np.arange(10, 510, 10)  # 50 elements (10 to 500)\n",
        "matrix = arr.reshape(5, 10)\n",
        "print(matrix)"
      ],
      "metadata": {
        "colab": {
          "base_uri": "https://localhost:8080/"
        },
        "id": "B-KnMUoUANXf",
        "outputId": "28a60015-503a-4af5-ee83-550748067aec"
      },
      "execution_count": 2,
      "outputs": [
        {
          "output_type": "stream",
          "name": "stdout",
          "text": [
            "[[ 10  20  30  40  50  60  70  80  90 100]\n",
            " [110 120 130 140 150 160 170 180 190 200]\n",
            " [210 220 230 240 250 260 270 280 290 300]\n",
            " [310 320 330 340 350 360 370 380 390 400]\n",
            " [410 420 430 440 450 460 470 480 490 500]]\n"
          ]
        }
      ]
    },
    {
      "cell_type": "code",
      "source": [
        "#3. Given an array arr = np.array([1, 2, 3, 4, 5]), write code to square each element without using a loop.\n",
        "\n",
        "arr = np.array([1, 2, 3, 4, 5])\n",
        "squared = arr ** 2\n",
        "print(squared)"
      ],
      "metadata": {
        "colab": {
          "base_uri": "https://localhost:8080/"
        },
        "id": "kXsnMzEeAiKD",
        "outputId": "d417acc3-46aa-485e-d68a-70e4c7aa8764"
      },
      "execution_count": 3,
      "outputs": [
        {
          "output_type": "stream",
          "name": "stdout",
          "text": [
            "[ 1  4  9 16 25]\n"
          ]
        }
      ]
    },
    {
      "cell_type": "code",
      "source": [
        "#4. If you have an array a = np.array([[1, 2], [3, 4], [5, 6]]), how do you extract [3, 5]?\n",
        "\n",
        "a = np.array([[1, 2], [3, 4], [5, 6]])\n",
        "\n",
        "result = a[[1, 2], 0]\n",
        "print(result)"
      ],
      "metadata": {
        "colab": {
          "base_uri": "https://localhost:8080/"
        },
        "id": "3SP9606kAoaW",
        "outputId": "d372da52-2d6e-4c8d-d281-3ff90606bde1"
      },
      "execution_count": 4,
      "outputs": [
        {
          "output_type": "stream",
          "name": "stdout",
          "text": [
            "[3 5]\n"
          ]
        }
      ]
    },
    {
      "cell_type": "code",
      "source": [
        "#5. Create a DataFrame with two columns: Name and Age, with 3 rows of sample data.\n",
        "\n",
        "import pandas as pd\n",
        "\n",
        "data = {\n",
        "    'Name': ['Alice', 'Bob', 'Charlie'],\n",
        "    'Age': [25, 30, 22]\n",
        "}\n",
        "\n",
        "df = pd.DataFrame(data)\n",
        "print(df)"
      ],
      "metadata": {
        "colab": {
          "base_uri": "https://localhost:8080/"
        },
        "id": "VQ4QJmEtAz7G",
        "outputId": "9b73a851-2f8d-4a43-d1c7-9306e999621b"
      },
      "execution_count": 5,
      "outputs": [
        {
          "output_type": "stream",
          "name": "stdout",
          "text": [
            "      Name  Age\n",
            "0    Alice   25\n",
            "1      Bob   30\n",
            "2  Charlie   22\n"
          ]
        }
      ]
    },
    {
      "cell_type": "code",
      "source": [
        "#6. Given the following data\n",
        "\n",
        "import pandas as pd\n",
        "data = {\n",
        "    'Name': ['John', 'Anna', 'Peter', 'Linda'],\n",
        "    'Age': [24, 28, 35, 22]\n",
        "}\n",
        "\n",
        "df = pd.DataFrame(data)\n",
        "\n",
        "\n",
        "# What is the total age of all the students?\n",
        "\n",
        "data = {\n",
        "    'Name': ['John', 'Anna', 'Peter', 'Linda'],\n",
        "    'Age': [24, 28, 35, 22]\n",
        "}\n",
        "\n",
        "df = pd.DataFrame(data)\n",
        "total_age = df['Age'].sum()\n",
        "print(\"Total Age:\", total_age)"
      ],
      "metadata": {
        "colab": {
          "base_uri": "https://localhost:8080/"
        },
        "id": "YLfkKMSDBGGh",
        "outputId": "be0ee04f-7bce-466e-a9bd-2ac101503f85"
      },
      "execution_count": 6,
      "outputs": [
        {
          "output_type": "stream",
          "name": "stdout",
          "text": [
            "Total Age: 109\n"
          ]
        }
      ]
    },
    {
      "cell_type": "code",
      "source": [
        "#7. How would you extract the records of Peter and Linda from the code above\n",
        "\n",
        "filtered = df[df['Name'].isin(['Peter', 'Linda'])]\n",
        "print(filtered)"
      ],
      "metadata": {
        "colab": {
          "base_uri": "https://localhost:8080/"
        },
        "id": "M-4iIcyKBi3K",
        "outputId": "6984a24f-411a-44ae-9cd1-0d1ab275b1a9"
      },
      "execution_count": 7,
      "outputs": [
        {
          "output_type": "stream",
          "name": "stdout",
          "text": [
            "    Name  Age\n",
            "2  Peter   35\n",
            "3  Linda   22\n"
          ]
        }
      ]
    },
    {
      "cell_type": "code",
      "source": [
        "#8. Import this data using pandas\n",
        "#https://raw.githubusercontent.com/waleolajumoke/data/refs/heads/main/Student.csv\n",
        "\n",
        "\n",
        "url = \"https://raw.githubusercontent.com/waleolajumoke/data/refs/heads/main/Student.csv\"\n",
        "students = pd.read_csv(url)\n",
        "print(students.head())"
      ],
      "metadata": {
        "colab": {
          "base_uri": "https://localhost:8080/"
        },
        "id": "RKoN91CNBsp4",
        "outputId": "dfef9806-07ff-4eb2-f999-9d3004c67800"
      },
      "execution_count": 9,
      "outputs": [
        {
          "output_type": "stream",
          "name": "stdout",
          "text": [
            "   gender race/ethnicity parental level of education         lunch  \\\n",
            "0  female        group B           bachelor's degree      standard   \n",
            "1  female        group C                some college      standard   \n",
            "2  female        group B             master's degree      standard   \n",
            "3    male        group A          associate's degree  free/reduced   \n",
            "4    male        group C                some college      standard   \n",
            "\n",
            "  test preparation course  math score  reading score  writing score  \n",
            "0                    none          72             72             74  \n",
            "1               completed          69             90             88  \n",
            "2                    none          90             95             93  \n",
            "3                    none          47             57             44  \n",
            "4                    none          76             78             75  \n"
          ]
        }
      ]
    },
    {
      "cell_type": "code",
      "source": [
        "#9. Find out the statistical summary of the data\n",
        "\n",
        "print(students.describe())"
      ],
      "metadata": {
        "colab": {
          "base_uri": "https://localhost:8080/"
        },
        "id": "UUhYfI-UB5iR",
        "outputId": "e755e68d-459d-47df-eab3-5ff7d4355232"
      },
      "execution_count": 10,
      "outputs": [
        {
          "output_type": "stream",
          "name": "stdout",
          "text": [
            "       math score  reading score  writing score\n",
            "count  1000.00000    1000.000000    1000.000000\n",
            "mean     66.08900      69.169000      68.054000\n",
            "std      15.16308      14.600192      15.195657\n",
            "min       0.00000      17.000000      10.000000\n",
            "25%      57.00000      59.000000      57.750000\n",
            "50%      66.00000      70.000000      69.000000\n",
            "75%      77.00000      79.000000      79.000000\n",
            "max     100.00000     100.000000     100.000000\n"
          ]
        }
      ]
    },
    {
      "cell_type": "code",
      "source": [
        "#10. Check out missing values in the data\n",
        "\n",
        "print(students.isnull().sum())"
      ],
      "metadata": {
        "colab": {
          "base_uri": "https://localhost:8080/"
        },
        "id": "h8vE2ywSB-Zw",
        "outputId": "ef592da7-ce23-43e3-87f8-cd0ce7ab5dc5"
      },
      "execution_count": 11,
      "outputs": [
        {
          "output_type": "stream",
          "name": "stdout",
          "text": [
            "gender                         0\n",
            "race/ethnicity                 0\n",
            "parental level of education    0\n",
            "lunch                          0\n",
            "test preparation course        0\n",
            "math score                     0\n",
            "reading score                  0\n",
            "writing score                  0\n",
            "dtype: int64\n"
          ]
        }
      ]
    }
  ]
}